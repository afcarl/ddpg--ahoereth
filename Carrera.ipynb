{
 "cells": [
  {
   "cell_type": "markdown",
   "metadata": {},
   "source": [
    "# Continuous Deep Reinforcement Learning on Slot Car Racing\n",
    "\n",
    "In this notebook we provide a quick introduction to the \"Deep Deterministic Gradient Policy\" algorithm presented in the 2016 paper \"Continuous Control with Deep Reinforcement Learning\" by Lillicrap et al. We demonstrate the algorithm in a Slot Car Racing (also known by the brand-name Carrera) environment.\n",
    "\n",
    "The following consists of multiple parts:\n",
    "\n",
    "  - The custom `Carrera` environment -- a Python class which allows agents to create, reset and perform \"steps\" on a slot car racing track. It also provides abstractions for visualizing the algorithms performance.\n",
    "  - An `Agent` class which interacts with a provided environment.\n",
    "  - The DDPG algorithm implemented in TensorFlow."
   ]
  },
  {
   "cell_type": "markdown",
   "metadata": {},
   "source": [
    "## Environment"
   ]
  },
  {
   "cell_type": "code",
   "execution_count": null,
   "metadata": {
    "collapsed": true
   },
   "outputs": [],
   "source": [
    "import math\n",
    "from typing import Tuple\n",
    "\n",
    "import numpy as np\n",
    "import matplotlib.pyplot as plt\n",
    "\n",
    "class Carrera:\n",
    "    \"\"\"A simple carrera track, modeled by a maximum velocity function.\"\"\"\n",
    "\n",
    "    def __init__(self):\n",
    "        \"\"\"Create new carrera track environment.\"\"\"\n",
    "        self._track_len = 2 * math.pi\n",
    "        self._position = 0\n",
    "        self._velocity = 0\n",
    "        self._terminal = False\n",
    "        self._episode_reward = 0\n",
    "    \n",
    "    def _max_velocity(self, position: float):\n",
    "        \"\"\"Returns the maximum velocity for any position on the track.\"\"\"\n",
    "        return (math.sin(position) + 1) / 2\n",
    "    \n",
    "    def reset(self):\n",
    "        \"\"\"Reset environment.\"\"\"\n",
    "        self._position = 0\n",
    "        self._velocity = 0\n",
    "        self._terminal = False\n",
    "        self._episode_reward = 0\n",
    "        return (self._position, self._velocity)\n",
    "        \n",
    "    def step(acceleration: float) -> Tuple[Tuple[float, float], float]:\n",
    "        \"\"\"Perform a step in the environment.\n",
    "        \n",
    "        Returns new observation tuple (position, velocity) and reward.\n",
    "        \"\"\"\n",
    "        self._velocity = max(0.8 * self._velocity, min(1, acceleration))\n",
    "        self._position = (self._position + (self._velocity/self._track_len)) % self._track_len\n",
    "        max_velocity = self._max_velocity(self._position)\n",
    "        if self._velocity > max_velocity:  # Cart flew out of the track\n",
    "            self._terminal = True\n",
    "            return (self._position, self._velocity), -1, self._terminal\n",
    "        reward = (self._velocity - max_velocity) + 1\n",
    "        self._episode_reward += reward\n",
    "        return (self._position, self._velocity), reward, self._terminal\n",
    "    \n",
    "    def render(self, fig=None) -> plt.Figure:\n",
    "        if fig is None:\n",
    "            fig = plt.figure()\n",
    "        x = np.linspace(0, self._track_len, 1000)\n",
    "        y = np.vectorize(self._max_velocity)(x)\n",
    "        plt.plot(x, y)\n",
    "        fig.canvas.draw()\n",
    "        return fig\n",
    "        \n",
    "        \n",
    "    @property\n",
    "    def episode_reward(self) -> float:\n",
    "        \"\"\"Get cummulated reward for the whole episode.\"\"\"\n",
    "        return self._episode_reward"
   ]
  },
  {
   "cell_type": "code",
   "execution_count": null,
   "metadata": {
    "collapsed": true
   },
   "outputs": [],
   "source": [
    "env = Carrera()\n",
    "env.render()"
   ]
  }
 ],
 "metadata": {
  "kernelspec": {
   "display_name": "ddpg",
   "language": "python",
   "name": "ddpg"
  },
  "language_info": {
   "codemirror_mode": {
    "name": "ipython",
    "version": 3
   },
   "file_extension": ".py",
   "mimetype": "text/x-python",
   "name": "python",
   "nbconvert_exporter": "python",
   "pygments_lexer": "ipython3",
   "version": "3.6.1"
  }
 },
 "nbformat": 4,
 "nbformat_minor": 2
}
